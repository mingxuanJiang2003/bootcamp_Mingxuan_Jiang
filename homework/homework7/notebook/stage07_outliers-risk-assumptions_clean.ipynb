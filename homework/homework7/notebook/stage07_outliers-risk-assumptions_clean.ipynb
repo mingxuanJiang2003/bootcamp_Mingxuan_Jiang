{
 "cells": [
  {
   "cell_type": "code",
   "execution_count": 1,
   "id": "66727f5f",
   "metadata": {},
   "outputs": [
    {
     "name": "stdout",
     "output_type": "stream",
     "text": [
      "data_source: synthetic\n"
     ]
    },
    {
     "data": {
      "text/html": [
       "<div>\n",
       "<style scoped>\n",
       "    .dataframe tbody tr th:only-of-type {\n",
       "        vertical-align: middle;\n",
       "    }\n",
       "\n",
       "    .dataframe tbody tr th {\n",
       "        vertical-align: top;\n",
       "    }\n",
       "\n",
       "    .dataframe thead th {\n",
       "        text-align: right;\n",
       "    }\n",
       "</style>\n",
       "<table border=\"1\" class=\"dataframe\">\n",
       "  <thead>\n",
       "    <tr style=\"text-align: right;\">\n",
       "      <th></th>\n",
       "      <th>x</th>\n",
       "      <th>y</th>\n",
       "    </tr>\n",
       "  </thead>\n",
       "  <tbody>\n",
       "    <tr>\n",
       "      <th>0</th>\n",
       "      <td>54.967142</td>\n",
       "      <td>71.692585</td>\n",
       "    </tr>\n",
       "    <tr>\n",
       "      <th>1</th>\n",
       "      <td>48.617357</td>\n",
       "      <td>91.587094</td>\n",
       "    </tr>\n",
       "    <tr>\n",
       "      <th>2</th>\n",
       "      <td>56.476885</td>\n",
       "      <td>93.145710</td>\n",
       "    </tr>\n",
       "    <tr>\n",
       "      <th>3</th>\n",
       "      <td>65.230299</td>\n",
       "      <td>83.954455</td>\n",
       "    </tr>\n",
       "    <tr>\n",
       "      <th>4</th>\n",
       "      <td>47.658466</td>\n",
       "      <td>96.774286</td>\n",
       "    </tr>\n",
       "  </tbody>\n",
       "</table>\n",
       "</div>"
      ],
      "text/plain": [
       "           x          y\n",
       "0  54.967142  71.692585\n",
       "1  48.617357  91.587094\n",
       "2  56.476885  93.145710\n",
       "3  65.230299  83.954455\n",
       "4  47.658466  96.774286"
      ]
     },
     "metadata": {},
     "output_type": "display_data"
    },
    {
     "name": "stdout",
     "output_type": "stream",
     "text": [
      "<class 'pandas.core.frame.DataFrame'>\n",
      "RangeIndex: 103 entries, 0 to 102\n",
      "Data columns (total 2 columns):\n",
      " #   Column  Non-Null Count  Dtype  \n",
      "---  ------  --------------  -----  \n",
      " 0   x       103 non-null    float64\n",
      " 1   y       103 non-null    float64\n",
      "dtypes: float64(2)\n",
      "memory usage: 1.7 KB\n"
     ]
    },
    {
     "data": {
      "text/plain": [
       "None"
      ]
     },
     "metadata": {},
     "output_type": "display_data"
    },
    {
     "data": {
      "text/html": [
       "<div>\n",
       "<style scoped>\n",
       "    .dataframe tbody tr th:only-of-type {\n",
       "        vertical-align: middle;\n",
       "    }\n",
       "\n",
       "    .dataframe tbody tr th {\n",
       "        vertical-align: top;\n",
       "    }\n",
       "\n",
       "    .dataframe thead th {\n",
       "        text-align: right;\n",
       "    }\n",
       "</style>\n",
       "<table border=\"1\" class=\"dataframe\">\n",
       "  <thead>\n",
       "    <tr style=\"text-align: right;\">\n",
       "      <th></th>\n",
       "      <th>count</th>\n",
       "      <th>mean</th>\n",
       "      <th>std</th>\n",
       "      <th>min</th>\n",
       "      <th>25%</th>\n",
       "      <th>50%</th>\n",
       "      <th>75%</th>\n",
       "      <th>max</th>\n",
       "    </tr>\n",
       "  </thead>\n",
       "  <tbody>\n",
       "    <tr>\n",
       "      <th>x</th>\n",
       "      <td>103.0</td>\n",
       "      <td>54.817024</td>\n",
       "      <td>35.821327</td>\n",
       "      <td>23.802549</td>\n",
       "      <td>44.185369</td>\n",
       "      <td>49.279899</td>\n",
       "      <td>55.279137</td>\n",
       "      <td>300.0</td>\n",
       "    </tr>\n",
       "    <tr>\n",
       "      <th>y</th>\n",
       "      <td>103.0</td>\n",
       "      <td>114.996206</td>\n",
       "      <td>87.608320</td>\n",
       "      <td>61.624576</td>\n",
       "      <td>84.144694</td>\n",
       "      <td>103.074502</td>\n",
       "      <td>112.822210</td>\n",
       "      <td>700.0</td>\n",
       "    </tr>\n",
       "  </tbody>\n",
       "</table>\n",
       "</div>"
      ],
      "text/plain": [
       "   count        mean        std        min        25%         50%         75%  \\\n",
       "x  103.0   54.817024  35.821327  23.802549  44.185369   49.279899   55.279137   \n",
       "y  103.0  114.996206  87.608320  61.624576  84.144694  103.074502  112.822210   \n",
       "\n",
       "     max  \n",
       "x  300.0  \n",
       "y  700.0  "
      ]
     },
     "metadata": {},
     "output_type": "display_data"
    },
    {
     "data": {
      "text/plain": [
       "x    0\n",
       "y    0\n",
       "dtype: int64"
      ]
     },
     "metadata": {},
     "output_type": "display_data"
    }
   ],
   "source": [
    "# Step 1 — Load data & quick EDA\n",
    "import pandas as pd, numpy as np\n",
    "import matplotlib.pyplot as plt\n",
    "\n",
    "np.random.seed(42)\n",
    "\n",
    "def load_data(path=\"data/raw/outliers_homework.csv\"):\n",
    "    try:\n",
    "        df = pd.read_csv(path)\n",
    "        src = \"csv\"\n",
    "    except FileNotFoundError:\n",
    "        df = pd.DataFrame({\n",
    "            \"x\": np.random.normal(50, 10, 100).tolist() + [200, 250, 300],\n",
    "            \"y\": np.random.normal(100, 20, 100).tolist() + [500, 600, 700],\n",
    "        })\n",
    "        src = \"synthetic\"\n",
    "    return df, src\n",
    "\n",
    "df, src = load_data()\n",
    "print(\"data_source:\", src)\n",
    "display(df.head())\n",
    "display(df.info())\n",
    "display(df.describe().T)\n",
    "display(df.isna().sum())\n"
   ]
  },
  {
   "cell_type": "code",
   "execution_count": 2,
   "id": "eb47fb28",
   "metadata": {},
   "outputs": [],
   "source": [
    "# Step 2 — Reusable functions (IQR / Z-score / Winsorize via quantile+clip)\n",
    "import pandas as pd\n",
    "import numpy as np\n",
    "\n",
    "def detect_outliers_iqr(series: pd.Series) -> pd.Series:\n",
    "    q1 = series.quantile(0.25)\n",
    "    q3 = series.quantile(0.75)\n",
    "    iqr = q3 - q1\n",
    "    lower = q1 - 1.5 * iqr\n",
    "    upper = q3 + 1.5 * iqr\n",
    "    return (series < lower) | (series > upper)\n",
    "\n",
    "def detect_outliers_zscore(series: pd.Series, threshold: float = 3.0) -> pd.Series:\n",
    "    mean = series.mean()\n",
    "    std = series.std() if series.std() != 0 else 1.0\n",
    "    z = (series - mean) / std\n",
    "    return z.abs() > threshold\n",
    "\n",
    "def winsorize_series(series: pd.Series, lower: float = 0.05, upper: float = 0.95) -> pd.Series:\n",
    "    lo = series.quantile(lower)\n",
    "    hi = series.quantile(upper)\n",
    "    return series.clip(lower=lo, upper=hi)\n"
   ]
  },
  {
   "cell_type": "code",
   "execution_count": 3,
   "id": "9e51e84e",
   "metadata": {},
   "outputs": [
    {
     "name": "stdout",
     "output_type": "stream",
     "text": [
      "target_col: x\n"
     ]
    },
    {
     "data": {
      "text/html": [
       "<div>\n",
       "<style scoped>\n",
       "    .dataframe tbody tr th:only-of-type {\n",
       "        vertical-align: middle;\n",
       "    }\n",
       "\n",
       "    .dataframe tbody tr th {\n",
       "        vertical-align: top;\n",
       "    }\n",
       "\n",
       "    .dataframe thead th {\n",
       "        text-align: right;\n",
       "    }\n",
       "</style>\n",
       "<table border=\"1\" class=\"dataframe\">\n",
       "  <thead>\n",
       "    <tr style=\"text-align: right;\">\n",
       "      <th></th>\n",
       "      <th>x</th>\n",
       "      <th>outlier_iqr</th>\n",
       "      <th>outlier_z</th>\n",
       "      <th>wins_x</th>\n",
       "    </tr>\n",
       "  </thead>\n",
       "  <tbody>\n",
       "    <tr>\n",
       "      <th>0</th>\n",
       "      <td>54.967142</td>\n",
       "      <td>False</td>\n",
       "      <td>False</td>\n",
       "      <td>54.967142</td>\n",
       "    </tr>\n",
       "    <tr>\n",
       "      <th>1</th>\n",
       "      <td>48.617357</td>\n",
       "      <td>False</td>\n",
       "      <td>False</td>\n",
       "      <td>48.617357</td>\n",
       "    </tr>\n",
       "    <tr>\n",
       "      <th>2</th>\n",
       "      <td>56.476885</td>\n",
       "      <td>False</td>\n",
       "      <td>False</td>\n",
       "      <td>56.476885</td>\n",
       "    </tr>\n",
       "    <tr>\n",
       "      <th>3</th>\n",
       "      <td>65.230299</td>\n",
       "      <td>False</td>\n",
       "      <td>False</td>\n",
       "      <td>65.230299</td>\n",
       "    </tr>\n",
       "    <tr>\n",
       "      <th>4</th>\n",
       "      <td>47.658466</td>\n",
       "      <td>False</td>\n",
       "      <td>False</td>\n",
       "      <td>47.658466</td>\n",
       "    </tr>\n",
       "    <tr>\n",
       "      <th>5</th>\n",
       "      <td>47.658630</td>\n",
       "      <td>False</td>\n",
       "      <td>False</td>\n",
       "      <td>47.658630</td>\n",
       "    </tr>\n",
       "    <tr>\n",
       "      <th>6</th>\n",
       "      <td>65.792128</td>\n",
       "      <td>False</td>\n",
       "      <td>False</td>\n",
       "      <td>65.619829</td>\n",
       "    </tr>\n",
       "    <tr>\n",
       "      <th>7</th>\n",
       "      <td>57.674347</td>\n",
       "      <td>False</td>\n",
       "      <td>False</td>\n",
       "      <td>57.674347</td>\n",
       "    </tr>\n",
       "    <tr>\n",
       "      <th>8</th>\n",
       "      <td>45.305256</td>\n",
       "      <td>False</td>\n",
       "      <td>False</td>\n",
       "      <td>45.305256</td>\n",
       "    </tr>\n",
       "    <tr>\n",
       "      <th>9</th>\n",
       "      <td>55.425600</td>\n",
       "      <td>False</td>\n",
       "      <td>False</td>\n",
       "      <td>55.425600</td>\n",
       "    </tr>\n",
       "  </tbody>\n",
       "</table>\n",
       "</div>"
      ],
      "text/plain": [
       "           x  outlier_iqr  outlier_z     wins_x\n",
       "0  54.967142        False      False  54.967142\n",
       "1  48.617357        False      False  48.617357\n",
       "2  56.476885        False      False  56.476885\n",
       "3  65.230299        False      False  65.230299\n",
       "4  47.658466        False      False  47.658466\n",
       "5  47.658630        False      False  47.658630\n",
       "6  65.792128        False      False  65.619829\n",
       "7  57.674347        False      False  57.674347\n",
       "8  45.305256        False      False  45.305256\n",
       "9  55.425600        False      False  55.425600"
      ]
     },
     "metadata": {},
     "output_type": "display_data"
    },
    {
     "name": "stdout",
     "output_type": "stream",
     "text": [
      "outlier_rate_any: 0.038834951456310676\n"
     ]
    }
   ],
   "source": [
    "# Step 3 — Flags and winsorized column\n",
    "num_cols = df.select_dtypes(include=\"number\").columns.tolist()\n",
    "assert len(num_cols) >= 1, \"Need at least one numeric column\"\n",
    "target_col = num_cols[0]\n",
    "print(\"target_col:\", target_col)\n",
    "\n",
    "df[\"outlier_iqr\"] = detect_outliers_iqr(df[target_col])\n",
    "df[\"outlier_z\"]   = detect_outliers_zscore(df[target_col], threshold=3.0)\n",
    "df[\"wins_\"+target_col] = winsorize_series(df[target_col], 0.05, 0.95)\n",
    "df[\"outlier_any\"] = df[[\"outlier_iqr\", \"outlier_z\"]].any(axis=1)\n",
    "\n",
    "display(df[[target_col, \"outlier_iqr\", \"outlier_z\", \"wins_\"+target_col]].head(10))\n",
    "print(\"outlier_rate_any:\", df[\"outlier_any\"].mean())\n"
   ]
  },
  {
   "cell_type": "code",
   "execution_count": 4,
   "id": "6b6f0b52",
   "metadata": {},
   "outputs": [
    {
     "data": {
      "text/html": [
       "<div>\n",
       "<style scoped>\n",
       "    .dataframe tbody tr th:only-of-type {\n",
       "        vertical-align: middle;\n",
       "    }\n",
       "\n",
       "    .dataframe tbody tr th {\n",
       "        vertical-align: top;\n",
       "    }\n",
       "\n",
       "    .dataframe thead th {\n",
       "        text-align: right;\n",
       "    }\n",
       "</style>\n",
       "<table border=\"1\" class=\"dataframe\">\n",
       "  <thead>\n",
       "    <tr style=\"text-align: right;\">\n",
       "      <th></th>\n",
       "      <th>n</th>\n",
       "      <th>mean</th>\n",
       "      <th>median</th>\n",
       "      <th>std</th>\n",
       "    </tr>\n",
       "  </thead>\n",
       "  <tbody>\n",
       "    <tr>\n",
       "      <th>all</th>\n",
       "      <td>103</td>\n",
       "      <td>54.817</td>\n",
       "      <td>49.280</td>\n",
       "      <td>35.821</td>\n",
       "    </tr>\n",
       "    <tr>\n",
       "      <th>filtered_iqr</th>\n",
       "      <td>99</td>\n",
       "      <td>49.216</td>\n",
       "      <td>48.844</td>\n",
       "      <td>8.763</td>\n",
       "    </tr>\n",
       "    <tr>\n",
       "      <th>winsor_5_95</th>\n",
       "      <td>103</td>\n",
       "      <td>49.588</td>\n",
       "      <td>49.280</td>\n",
       "      <td>8.954</td>\n",
       "    </tr>\n",
       "  </tbody>\n",
       "</table>\n",
       "</div>"
      ],
      "text/plain": [
       "                n    mean  median     std\n",
       "all           103  54.817  49.280  35.821\n",
       "filtered_iqr   99  49.216  48.844   8.763\n",
       "winsor_5_95   103  49.588  49.280   8.954"
      ]
     },
     "execution_count": 4,
     "metadata": {},
     "output_type": "execute_result"
    }
   ],
   "source": [
    "# Step 4 — Summary comparison\n",
    "base     = df[target_col]\n",
    "filtered = df.loc[~df[\"outlier_iqr\"], target_col]\n",
    "winsed   = df[\"wins_\"+target_col]\n",
    "\n",
    "summary = pd.DataFrame({\n",
    "    \"n\":     [base.size, filtered.size, winsed.size],\n",
    "    \"mean\":  [base.mean(), filtered.mean(), winsed.mean()],\n",
    "    \"median\":[base.median(), filtered.median(), winsed.median()],\n",
    "    \"std\":   [base.std(), filtered.std(), winsed.std()],\n",
    "}, index=[\"all\", \"filtered_iqr\", \"winsor_5_95\"]).round(3)\n",
    "\n",
    "summary\n"
   ]
  },
  {
   "cell_type": "code",
   "execution_count": 5,
   "id": "517e5972",
   "metadata": {},
   "outputs": [
    {
     "name": "stdout",
     "output_type": "stream",
     "text": [
      "x_col: x | y_col: y\n"
     ]
    },
    {
     "data": {
      "text/html": [
       "<div>\n",
       "<style scoped>\n",
       "    .dataframe tbody tr th:only-of-type {\n",
       "        vertical-align: middle;\n",
       "    }\n",
       "\n",
       "    .dataframe tbody tr th {\n",
       "        vertical-align: top;\n",
       "    }\n",
       "\n",
       "    .dataframe thead th {\n",
       "        text-align: right;\n",
       "    }\n",
       "</style>\n",
       "<table border=\"1\" class=\"dataframe\">\n",
       "  <thead>\n",
       "    <tr style=\"text-align: right;\">\n",
       "      <th></th>\n",
       "      <th>coef_const</th>\n",
       "      <th>coef_x</th>\n",
       "      <th>R2</th>\n",
       "      <th>MAE</th>\n",
       "    </tr>\n",
       "  </thead>\n",
       "  <tbody>\n",
       "    <tr>\n",
       "      <th>all</th>\n",
       "      <td>-10.7239</td>\n",
       "      <td>2.2935</td>\n",
       "      <td>0.8794</td>\n",
       "      <td>24.2843</td>\n",
       "    </tr>\n",
       "    <tr>\n",
       "      <th>filtered_iqr</th>\n",
       "      <td>114.8481</td>\n",
       "      <td>-0.2937</td>\n",
       "      <td>0.0180</td>\n",
       "      <td>15.1183</td>\n",
       "    </tr>\n",
       "    <tr>\n",
       "      <th>winsor_5_95</th>\n",
       "      <td>-18.2245</td>\n",
       "      <td>2.6865</td>\n",
       "      <td>0.0754</td>\n",
       "      <td>40.2079</td>\n",
       "    </tr>\n",
       "  </tbody>\n",
       "</table>\n",
       "</div>"
      ],
      "text/plain": [
       "              coef_const  coef_x      R2      MAE\n",
       "all             -10.7239  2.2935  0.8794  24.2843\n",
       "filtered_iqr    114.8481 -0.2937  0.0180  15.1183\n",
       "winsor_5_95     -18.2245  2.6865  0.0754  40.2079"
      ]
     },
     "execution_count": 5,
     "metadata": {},
     "output_type": "execute_result"
    }
   ],
   "source": [
    "# Step 5 — OLS via numpy only\n",
    "import numpy as np\n",
    "import pandas as pd\n",
    "\n",
    "num_cols = df.select_dtypes(include=\"number\").columns.tolist()\n",
    "assert len(num_cols) >= 2, \"Need at least two numeric columns\"\n",
    "x_col, y_col = num_cols[0], num_cols[1]\n",
    "print(\"x_col:\", x_col, \"| y_col:\", y_col)\n",
    "\n",
    "def fit_ols_numpy(x, y):\n",
    "    X = np.column_stack([np.ones(len(x)), np.asarray(x)])\n",
    "    beta, *_ = np.linalg.lstsq(X, np.asarray(y), rcond=None)\n",
    "    yhat = X @ beta\n",
    "    ss_res = np.sum((y - yhat)**2)\n",
    "    ss_tot = np.sum((y - np.mean(y))**2)\n",
    "    r2 = 1 - ss_res/ss_tot if ss_tot != 0 else 0.0\n",
    "    mae = np.mean(np.abs(y - yhat))\n",
    "    return {\"coef_const\": beta[0], \"coef_x\": beta[1], \"R2\": r2, \"MAE\": mae}\n",
    "\n",
    "res_all = fit_ols_numpy(df[x_col].values, df[y_col].values)\n",
    "res_fil = fit_ols_numpy(df.loc[~df[\"outlier_iqr\"], x_col].values,\n",
    "                        df.loc[~df[\"outlier_iqr\"], y_col].values)\n",
    "res_win = fit_ols_numpy(df[\"wins_\"+x_col].values, df[y_col].values)\n",
    "\n",
    "pd.DataFrame([res_all, res_fil, res_win], index=[\"all\", \"filtered_iqr\", \"winsor_5_95\"]).round(4)\n"
   ]
  },
  {
   "cell_type": "code",
   "execution_count": 6,
   "id": "292e6b92",
   "metadata": {},
   "outputs": [
    {
     "name": "stderr",
     "output_type": "stream",
     "text": [
      "C:\\Users\\24614\\AppData\\Local\\Temp\\ipykernel_23720\\3071160414.py:3: MatplotlibDeprecationWarning: The 'labels' parameter of boxplot() has been renamed 'tick_labels' since Matplotlib 3.9; support for the old name will be dropped in 3.11.\n",
      "  plt.boxplot([df[target_col].dropna(),\n"
     ]
    },
    {
     "data": {
      "image/png": "[encoded data removed]",
      "text/plain": [
       "<Figure size 640x480 with 1 Axes>"
      ]
     },
     "metadata": {},
     "output_type": "display_data"
    },
    {
     "data": {
      "image/png": "[encoded data removed]",
      "text/plain": [
       "<Figure size 640x480 with 1 Axes>"
      ]
     },
     "metadata": {},
     "output_type": "display_data"
    }
   ],
   "source": [
    "# Step 6 — Plots\n",
    "plt.figure()\n",
    "plt.boxplot([df[target_col].dropna(), \n",
    "             df.loc[~df[\"outlier_iqr\"], target_col].dropna(), \n",
    "             df[\"wins_\"+target_col].dropna()],\n",
    "            labels=[\"all\", \"filtered_iqr\", \"winsor_5_95\"])\n",
    "plt.title(f\"Boxplot: {target_col}\")\n",
    "plt.ylabel(target_col)\n",
    "plt.show()\n",
    "\n",
    "plt.figure()\n",
    "plt.scatter(df[x_col], df[y_col], alpha=0.6, label=\"all\")\n",
    "plt.scatter(df.loc[~df[\"outlier_iqr\"], x_col], df.loc[~df[\"outlier_iqr\"], y_col], alpha=0.6, label=\"filtered_iqr\")\n",
    "plt.scatter(df[\"wins_\"+x_col], df[y_col], alpha=0.6, label=\"winsor_5_95\")\n",
    "plt.legend()\n",
    "plt.title(f\"Scatter: y={y_col}, x={x_col}\")\n",
    "plt.xlabel(x_col); plt.ylabel(y_col)\n",
    "plt.show()\n"
   ]
  },
  {
   "cell_type": "markdown",
   "id": "6f2caaf0",
   "metadata": {},
   "source": [
    "## Reflection\n",
    "- Methods and thresholds: IQR (1.5×IQR), Z-score (|Z|>3), Winsorize (5%/95%).\n",
    "- Why these choices.\n",
    "- Observed effects on mean/median/std and regression (coef/R²/MAE).\n",
    "- Assumptions and risks if assumptions fail; mitigation ideas (robust regression, business review).\n"
   ]
  }
 ],
 "metadata": {
  "kernelspec": {
   "display_name": ".venv",
   "language": "python",
   "name": "python3"
  },
  "language_info": {
   "codemirror_mode": {
    "name": "ipython",
    "version": 3
   },
   "file_extension": ".py",
   "mimetype": "text/x-python",
   "name": "python",
   "nbconvert_exporter": "python",
   "pygments_lexer": "ipython3",
   "version": "3.13.7"
  }
 },
 "nbformat": 4,
 "nbformat_minor": 5
}
