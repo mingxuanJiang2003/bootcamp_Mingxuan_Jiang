{
 "cells": [
  {
   "cell_type": "code",
   "execution_count": null,
   "metadata": {},
   "outputs": [],
   "source": [
    "import pandas as pd\n",
    "import numpy as np\n",
    "import yfinance as yf\n",
    "from src.utils import make_features\n",
    "from sklearn.linear_model import LogisticRegression\n",
    "from sklearn.model_selection import train_test_split\n",
    "import joblib,os,requests"
   ]
  },
  {
   "cell_type": "code",
   "execution_count": null,
   "metadata": {},
   "outputs": [],
   "source": [
    "tickers=['AAPL','MSFT','SPY']\n",
    "df=[]\n",
    "for t in tickers:\n",
    "    d=yf.download(t,period='5y',interval='1d',auto_adjust=True,progress=False)\n",
    "    d['Ticker']=t\n",
    "    df.append(d)\n",
    "df=pd.concat(df).reset_index().rename(columns={'Date':'Date'})\n",
    "df=df[['Date','Ticker','Open','High','Low','Close','Volume']]\n",
    "df.to_csv('data/prices.csv',index=False)\n",
    "d=df[df['Ticker']=='SPY'].set_index('Date')"
   ]
  },
  {
   "cell_type": "code",
   "execution_count": null,
   "metadata": {},
   "outputs": [],
   "source": [
    "X,y=make_features(d)\n",
    "X_train,X_test,y_train,y_test=train_test_split(X,y,test_size=0.2,shuffle=False)\n",
    "m=LogisticRegression(max_iter=1000)\n",
    "m.fit(X_train,y_train)\n",
    "import sklearn.metrics as M\n",
    "pred=m.predict(X_test)\n",
    "proba=m.predict_proba(X_test)[:,1]\n",
    "print(M.classification_report(y_test,pred))\n",
    "os.makedirs('model',exist_ok=True)\n",
    "joblib.dump(m,'model/model.pkl')"
   ]
  },
  {
   "cell_type": "code",
   "execution_count": null,
   "metadata": {},
   "outputs": [],
   "source": [
    "m=joblib.load('model/model.pkl')\n",
    "print(m.predict_proba(X.iloc[[-1]])[0,1])"
   ]
  },
  {
   "cell_type": "code",
   "execution_count": null,
   "metadata": {},
   "outputs": [],
   "source": [
    "url='http://127.0.0.1:5000/predict'\n",
    "payload={'features':{'ret':0.01,'vol':0.02,'ma5':100,'ma10':101,'mom5':0.03,'v_ma5':1000000}}\n",
    "try:\n",
    "    r=requests.post(url,json=payload,timeout=2)\n",
    "    print(r.status_code,r.text)\n",
    "except Exception as e:\n",
    "    print('API未启动')"
   ]
  }
 ],
 "metadata": {
  "kernelspec": {
   "display_name": "Python 3",
   "language": "python",
   "name": "python3"
  },
  "language_info": {
   "name": "python",
   "pygments_lexer": "ipython3"
  }
 },
 "nbformat": 4,
 "nbformat_minor": 5
}
