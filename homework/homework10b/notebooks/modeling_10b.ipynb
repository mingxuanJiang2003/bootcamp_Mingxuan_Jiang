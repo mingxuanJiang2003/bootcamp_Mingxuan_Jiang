{
 "cells": [
  {
   "cell_type": "markdown",
   "id": "548208d8",
   "metadata": {},
   "source": [
    "# Stage 10b — Time Series & Classification"
   ]
  },
  {
   "cell_type": "code",
   "execution_count": null,
   "id": "783c2a33",
   "metadata": {},
   "outputs": [],
   "source": [
    "import numpy as np, pandas as pd, matplotlib.pyplot as plt\n",
    "from sklearn.pipeline import Pipeline\n",
    "from sklearn.preprocessing import StandardScaler\n",
    "from sklearn.linear_model import Ridge, LogisticRegression\n",
    "from sklearn.metrics import mean_absolute_error, mean_squared_error, accuracy_score, precision_score, recall_score, f1_score, confusion_matrix\n",
    "PATH=\"/mnt/data/stage10b_project/data/synthetic_timeseries.csv\" "
   ]
  },
  {
   "cell_type": "code",
   "execution_count": null,
   "id": "2e94e962",
   "metadata": {},
   "outputs": [],
   "source": [
    "d=pd.read_csv(PATH,parse_dates=[\"date\"]).sort_values(\"date\").reset_index(drop=True)\n",
    "d[\"lag1\"]=d[\"ret\"].shift(1)\n",
    "d[\"lag5\"]=d[\"ret\"].shift(5)\n",
    "d[\"roll_mean5\"]=d[\"ret\"].shift(1).rolling(5).mean()\n",
    "d[\"roll_std5\"]=d[\"ret\"].shift(1).rolling(5).std()\n",
    "d[\"mom5\"]=d[\"price\"].pct_change(5).shift(1)\n",
    "d[\"z20\"]=((d[\"ret\"].shift(1)-d[\"ret\"].shift(1).rolling(20).mean())/d[\"ret\"].shift(1).rolling(20).std())\n",
    "d=d.dropna()\n",
    "X=d[[\"lag1\",\"lag5\",\"roll_mean5\",\"roll_std5\",\"mom5\",\"z20\"]].values\n",
    "y_reg=d[\"ret\"].shift(-1).dropna()\n",
    "X_reg=X[:len(y_reg)]\n",
    "y_cls=(d[\"ret\"].shift(-1)>0).astype(int).dropna()\n",
    "X_cls=X[:len(y_cls)]\n",
    "n=len(X_reg); split=int(n*0.75)\n",
    "Xtr_r,Xte_r=X_reg[:split],X_reg[split:]\n",
    "ytr_r,yte_r=y_reg.values[:split],y_reg.values[split:]\n",
    "pipe_r=Pipeline([(\"s\",StandardScaler()),(\"m\",Ridge(alpha=1.0))])\n",
    "pipe_r.fit(Xtr_r,ytr_r)\n",
    "p_r=pipe_r.predict(Xte_r)\n",
    "mae=mean_absolute_error(yte_r,p_r); rmse=mean_squared_error(yte_r,p_r)**0.5\n",
    "print(\"MAE\",mae); print(\"RMSE\",rmse)\n",
    "t=np.arange(len(yte_r)); plt.figure(); plt.plot(t,yte_r); plt.plot(t,p_r); plt.title(\"pred_vs_truth\"); plt.show()"
   ]
  },
  {
   "cell_type": "code",
   "execution_count": null,
   "id": "9ebf21f2",
   "metadata": {},
   "outputs": [],
   "source": [
    "n=len(X_cls); split=int(n*0.75)\n",
    "Xtr_c,Xte_c=X_cls[:split],X_cls[split:]\n",
    "ytr_c,yte_c=y_cls.values[:split],y_cls.values[split:]\n",
    "pipe_c=Pipeline([(\"s\",StandardScaler()),(\"c\",LogisticRegression(max_iter=200))])\n",
    "pipe_c.fit(Xtr_c,ytr_c)\n",
    "p_c=pipe_c.predict(Xte_c)\n",
    "acc=accuracy_score(yte_c,p_c); prec=precision_score(yte_c,p_c,zero_division=0); rec=recall_score(yte_c,p_c,zero_division=0); f1=f1_score(yte_c,p_c,zero_division=0)\n",
    "print(\"ACC\",acc,\"PREC\",prec,\"REC\",rec,\"F1\",f1)\n",
    "cm=confusion_matrix(yte_c,p_c); import numpy as np; import matplotlib.pyplot as plt\n",
    "plt.figure(); plt.imshow(cm); plt.title(\"confusion_matrix\"); plt.show()"
   ]
  }
 ],
 "metadata": {
  "kernelspec": {
   "display_name": "Python 3",
   "language": "python",
   "name": "python3"
  }
 },
 "nbformat": 4,
 "nbformat_minor": 5
}
