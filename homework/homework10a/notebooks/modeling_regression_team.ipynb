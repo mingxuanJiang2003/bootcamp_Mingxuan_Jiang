{
 "cells": [
  {
   "cell_type": "markdown",
   "id": "6e56053a",
   "metadata": {},
   "source": [
    "This notebook fits a baseline linear regression, evaluates R²/RMSE, and runs residual diagnostics. You can switch to your own CSV by editing the config below."
   ]
  },
  {
   "cell_type": "code",
   "execution_count": null,
   "id": "4a7d11ab",
   "metadata": {},
   "outputs": [],
   "source": [
    "import numpy as np, pandas as pd, matplotlib.pyplot as plt\n",
    "from sklearn.model_selection import train_test_split\n",
    "from sklearn.linear_model import LinearRegression\n",
    "from sklearn.metrics import r2_score, mean_squared_error\n",
    "from scipy import stats\n",
    "RANDOM_STATE = 42\n",
    "np.random.seed(RANDOM_STATE)"
   ]
  },
  {
   "cell_type": "code",
   "execution_count": null,
   "id": "e7e586a7",
   "metadata": {},
   "outputs": [],
   "source": [
    "PATH_TO_CSV = r\"/mnt/data/stage10a_project/data/synthetic_regression.csv\"\n",
    "TARGET_COL = \"y\"\n",
    "FEATURE_COLS = []"
   ]
  },
  {
   "cell_type": "code",
   "execution_count": null,
   "id": "1b036fd5",
   "metadata": {},
   "outputs": [],
   "source": [
    "df = pd.read_csv(PATH_TO_CSV)\n",
    "import numpy as np\n",
    "numeric_cols = df.select_dtypes(include=[np.number]).columns.tolist()\n",
    "if TARGET_COL not in numeric_cols:\n",
    "    raise ValueError(f\"TARGET_COL '{TARGET_COL}' not found among numeric columns: {numeric_cols}\")\n",
    "feature_cols = FEATURE_COLS if FEATURE_COLS else [c for c in numeric_cols if c != TARGET_COL]\n",
    "X, y = df[feature_cols].copy(), df[TARGET_COL].copy()\n",
    "X_train, X_test, y_train, y_test = train_test_split(X, y, test_size=0.2, random_state=RANDOM_STATE)\n",
    "linreg = LinearRegression().fit(X_train, y_train)\n",
    "y_train_pred, y_test_pred = linreg.predict(X_train), linreg.predict(X_test)\n",
    "r2_train, r2_test = r2_score(y_train, y_train_pred), r2_score(y_test, y_test_pred)\n",
    "rmse_train = mean_squared_error(y_train, y_train_pred, squared=False)\n",
    "rmse_test  = mean_squared_error(y_test,  y_test_pred,  squared=False)\n",
    "print(\"Features:\", feature_cols)\n",
    "print(\"Coefficients:\", dict(zip(feature_cols, linreg.coef_)))\n",
    "print(\"Intercept:\", linreg.intercept_)\n",
    "print(f\"R^2 train={r2_train:.4f}  test={r2_test:.4f}\")\n",
    "print(f\"RMSE train={rmse_train:.4f}  test={rmse_test:.4f}\")"
   ]
  },
  {
   "cell_type": "code",
   "execution_count": null,
   "id": "03f4afd8",
   "metadata": {},
   "outputs": [],
   "source": [
    "resid = y_test - y_test_pred\n",
    "plt.figure(); plt.scatter(y_test_pred, resid, alpha=0.8); plt.axhline(0, linestyle=\"--\"); plt.title(\"Residuals vs Fitted\"); plt.xlabel(\"Fitted (test)\"); plt.ylabel(\"Residuals\"); plt.show()\n",
    "plt.figure(); plt.hist(resid, bins=30); plt.title(\"Residual Histogram (test)\"); plt.xlabel(\"Residual\"); plt.ylabel(\"Count\"); plt.show()\n",
    "plt.figure(); import scipy.stats as st; st.probplot(resid, dist=\"norm\", plot=plt); plt.title(\"QQ Plot (test)\"); plt.show()\n",
    "key = X_test.columns[0]; plt.figure(); plt.scatter(X_test[key], resid, alpha=0.8); plt.axhline(0, linestyle=\"--\"); plt.title(f\"Residuals vs {key}\"); plt.xlabel(key); plt.ylabel(\"Residuals\"); plt.show()\n",
    "r = resid.reset_index(drop=True); r_lag = r.shift(1); valid = r_lag.notna()\n",
    "import numpy as np; corr = np.corrcoef(r[valid], r_lag[valid])[0,1]\n",
    "plt.figure(); plt.scatter(r[valid], r_lag[valid], alpha=0.8); plt.title(f\"Lag-1 Residual Scatter (corr ≈ {corr:.3f})\"); plt.xlabel(\"Residual[t]\"); plt.ylabel(\"Residual[t-1]\"); plt.show()"
   ]
  }
 ],
 "metadata": {
  "kernelspec": {
   "display_name": "Python 3",
   "language": "python",
   "name": "python3"
  }
 },
 "nbformat": 4,
 "nbformat_minor": 5
}
