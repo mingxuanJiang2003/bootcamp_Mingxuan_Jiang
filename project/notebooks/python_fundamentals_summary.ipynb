{
 "cells": [
  {
   "cell_type": "code",
   "execution_count": null,
   "id": "27060861",
   "metadata": {},
   "outputs": [],
   "source": [
    "import numpy as np, pandas as pd\n",
    "from src.utils import to_datetime_col\n",
    "\n",
    "df = pd.DataFrame({\"date\": [\"2024-01-01\",\"2024/01/02\",\"01-03-2024\"],\n",
    "                   \"x\":[1,2,3]})\n",
    "df = to_datetime_col(df, \"date\")\n",
    "display(df.info())\n",
    "display(df)\n"
   ]
  }
 ],
 "metadata": {
  "language_info": {
   "name": "python"
  }
 },
 "nbformat": 4,
 "nbformat_minor": 5
}
