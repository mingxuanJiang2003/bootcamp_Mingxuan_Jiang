{
 "cells": [
  {
   "cell_type": "code",
   "execution_count": 1,
   "id": "f767fd60",
   "metadata": {},
   "outputs": [],
   "source": [
    "import sys, os\n",
    "sys.path.append(os.path.abspath(os.path.join(os.getcwd(), \"..\", \"src\")))\n"
   ]
  },
  {
   "cell_type": "code",
   "execution_count": 2,
   "id": "587b826b",
   "metadata": {},
   "outputs": [
    {
     "name": "stdout",
     "output_type": "stream",
     "text": [
      "Python: 3.13.7\n",
      "cwd: c:\\Users\\24614\\bootcamp_Mingxuan_Jiang\\project\\notebooks\n",
      "numpy: 2.3.2 pandas: 2.3.1\n"
     ]
    }
   ],
   "source": [
    "import platform, numpy, pandas, os\n",
    "print(\"Python:\", platform.python_version())\n",
    "print(\"cwd:\", os.getcwd())\n",
    "print(\"numpy:\", numpy.__version__, \"pandas:\", pandas.__version__)\n"
   ]
  }
 ],
 "metadata": {
  "kernelspec": {
   "display_name": ".venv",
   "language": "python",
   "name": "python3"
  },
  "language_info": {
   "codemirror_mode": {
    "name": "ipython",
    "version": 3
   },
   "file_extension": ".py",
   "mimetype": "text/x-python",
   "name": "python",
   "nbconvert_exporter": "python",
   "pygments_lexer": "ipython3",
   "version": "3.13.7"
  }
 },
 "nbformat": 4,
 "nbformat_minor": 5
}
