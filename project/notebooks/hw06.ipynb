{
 "cells": [
  {
   "cell_type": "code",
   "execution_count": 1,
   "id": "905c53df",
   "metadata": {},
   "outputs": [],
   "source": [
    "import sys, os\n",
    "sys.path.append(os.path.abspath(os.path.join(os.getcwd(), \"..\", \"src\")))\n"
   ]
  },
  {
   "cell_type": "code",
   "execution_count": 2,
   "id": "bc5cc656",
   "metadata": {},
   "outputs": [
    {
     "data": {
      "text/html": [
       "<div>\n",
       "<style scoped>\n",
       "    .dataframe tbody tr th:only-of-type {\n",
       "        vertical-align: middle;\n",
       "    }\n",
       "\n",
       "    .dataframe tbody tr th {\n",
       "        vertical-align: top;\n",
       "    }\n",
       "\n",
       "    .dataframe thead th {\n",
       "        text-align: right;\n",
       "    }\n",
       "</style>\n",
       "<table border=\"1\" class=\"dataframe\">\n",
       "  <thead>\n",
       "    <tr style=\"text-align: right;\">\n",
       "      <th></th>\n",
       "      <th>date</th>\n",
       "      <th>value_a</th>\n",
       "      <th>value_b</th>\n",
       "    </tr>\n",
       "  </thead>\n",
       "  <tbody>\n",
       "    <tr>\n",
       "      <th>0</th>\n",
       "      <td>2024-01-01</td>\n",
       "      <td>10</td>\n",
       "      <td>10</td>\n",
       "    </tr>\n",
       "    <tr>\n",
       "      <th>1</th>\n",
       "      <td>2024-01-02</td>\n",
       "      <td>20</td>\n",
       "      <td>20</td>\n",
       "    </tr>\n",
       "    <tr>\n",
       "      <th>2</th>\n",
       "      <td>2024-01-03</td>\n",
       "      <td>30</td>\n",
       "      <td>35</td>\n",
       "    </tr>\n",
       "    <tr>\n",
       "      <th>3</th>\n",
       "      <td>2024-01-04</td>\n",
       "      <td>40</td>\n",
       "      <td>40</td>\n",
       "    </tr>\n",
       "    <tr>\n",
       "      <th>4</th>\n",
       "      <td>2024-01-05</td>\n",
       "      <td>50</td>\n",
       "      <td>50</td>\n",
       "    </tr>\n",
       "  </tbody>\n",
       "</table>\n",
       "</div>"
      ],
      "text/plain": [
       "         date  value_a  value_b\n",
       "0  2024-01-01       10       10\n",
       "1  2024-01-02       20       20\n",
       "2  2024-01-03       30       35\n",
       "3  2024-01-04       40       40\n",
       "4  2024-01-05       50       50"
      ]
     },
     "metadata": {},
     "output_type": "display_data"
    },
    {
     "data": {
      "text/html": [
       "<div>\n",
       "<style scoped>\n",
       "    .dataframe tbody tr th:only-of-type {\n",
       "        vertical-align: middle;\n",
       "    }\n",
       "\n",
       "    .dataframe tbody tr th {\n",
       "        vertical-align: top;\n",
       "    }\n",
       "\n",
       "    .dataframe thead th {\n",
       "        text-align: right;\n",
       "    }\n",
       "</style>\n",
       "<table border=\"1\" class=\"dataframe\">\n",
       "  <thead>\n",
       "    <tr style=\"text-align: right;\">\n",
       "      <th></th>\n",
       "      <th>date</th>\n",
       "      <th>value_a</th>\n",
       "      <th>value_b</th>\n",
       "    </tr>\n",
       "  </thead>\n",
       "  <tbody>\n",
       "    <tr>\n",
       "      <th>0</th>\n",
       "      <td>2024-01-01</td>\n",
       "      <td>-1.605793</td>\n",
       "      <td>-1.612255</td>\n",
       "    </tr>\n",
       "    <tr>\n",
       "      <th>1</th>\n",
       "      <td>2024-01-02</td>\n",
       "      <td>-1.436762</td>\n",
       "      <td>-1.443873</td>\n",
       "    </tr>\n",
       "    <tr>\n",
       "      <th>2</th>\n",
       "      <td>2024-01-03</td>\n",
       "      <td>-1.267731</td>\n",
       "      <td>-1.191300</td>\n",
       "    </tr>\n",
       "    <tr>\n",
       "      <th>3</th>\n",
       "      <td>2024-01-04</td>\n",
       "      <td>-1.098701</td>\n",
       "      <td>-1.107110</td>\n",
       "    </tr>\n",
       "    <tr>\n",
       "      <th>4</th>\n",
       "      <td>2024-01-05</td>\n",
       "      <td>-0.929670</td>\n",
       "      <td>-0.938728</td>\n",
       "    </tr>\n",
       "  </tbody>\n",
       "</table>\n",
       "</div>"
      ],
      "text/plain": [
       "         date   value_a   value_b\n",
       "0  2024-01-01 -1.605793 -1.612255\n",
       "1  2024-01-02 -1.436762 -1.443873\n",
       "2  2024-01-03 -1.267731 -1.191300\n",
       "3  2024-01-04 -1.098701 -1.107110\n",
       "4  2024-01-05 -0.929670 -0.938728"
      ]
     },
     "metadata": {},
     "output_type": "display_data"
    },
    {
     "name": "stdout",
     "output_type": "stream",
     "text": [
      "saved: c:\\Users\\24614\\bootcamp_Mingxuan_Jiang\\project\\data\\processed\\sample_preprocessed.csv\n"
     ]
    }
   ],
   "source": [
    "import pandas as pd, os\n",
    "from cleaning import normalize_cols, fill_na_num, standardize\n",
    "raw = os.path.abspath(os.path.join(os.getcwd(),\"..\",\"data\",\"raw\",\"sample_raw.csv\"))\n",
    "df = pd.read_csv(raw)\n",
    "df = normalize_cols(df)\n",
    "df = fill_na_num(df, [\"value_a\",\"value_b\"], 0.0)\n",
    "df_std = standardize(df, [\"value_a\",\"value_b\"])\n",
    "display(df.head()); display(df_std.head())\n",
    "proc_dir = os.path.abspath(os.path.join(os.getcwd(),\"..\",\"data\",\"processed\"))\n",
    "os.makedirs(proc_dir, exist_ok=True)\n",
    "out = os.path.join(proc_dir,\"sample_preprocessed.csv\")\n",
    "df_std.to_csv(out, index=False); print(\"saved:\", out)\n"
   ]
  }
 ],
 "metadata": {
  "kernelspec": {
   "display_name": ".venv",
   "language": "python",
   "name": "python3"
  },
  "language_info": {
   "codemirror_mode": {
    "name": "ipython",
    "version": 3
   },
   "file_extension": ".py",
   "mimetype": "text/x-python",
   "name": "python",
   "nbconvert_exporter": "python",
   "pygments_lexer": "ipython3",
   "version": "3.13.7"
  }
 },
 "nbformat": 4,
 "nbformat_minor": 5
}
