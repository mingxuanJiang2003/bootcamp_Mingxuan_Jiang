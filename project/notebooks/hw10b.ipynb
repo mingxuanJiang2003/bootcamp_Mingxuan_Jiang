{
 "cells": [
  {
   "cell_type": "code",
   "execution_count": null,
   "id": "75754aeb",
   "metadata": {},
   "outputs": [],
   "source": [
    "import pandas as pd, numpy as np, matplotlib.pyplot as plt\n",
    "from sklearn.pipeline import Pipeline\n",
    "from sklearn.preprocessing import StandardScaler\n",
    "from sklearn.linear_model import Ridge, LogisticRegression\n",
    "from sklearn.metrics import mean_absolute_error, mean_squared_error, accuracy_score, precision_score, recall_score, f1_score, confusion_matrix\n",
    "PATH=r\"/mnt/data/project_10ab_solo/project/data/processed/sample_processed_10b.csv\""
   ]
  },
  {
   "cell_type": "code",
   "execution_count": null,
   "id": "f5cee9b3",
   "metadata": {},
   "outputs": [],
   "source": [
    "d=pd.read_csv(PATH,parse_dates=[\"date\"]).sort_values(\"date\").reset_index(drop=True)\n",
    "d[\"lag1\"]=d[\"ret\"].shift(1)\n",
    "d[\"lag5\"]=d[\"ret\"].shift(5)\n",
    "d[\"roll_mean5\"]=d[\"ret\"].shift(1).rolling(5).mean()\n",
    "d[\"roll_std5\"]=d[\"ret\"].shift(1).rolling(5).std()\n",
    "d[\"mom5\"]=d[\"price\"].pct_change(5).shift(1)\n",
    "d[\"z20\"]=(d[\"ret\"].shift(1)-d[\"ret\"].shift(1).rolling(20).mean())/d[\"ret\"].shift(1).rolling(20).std()\n",
    "d=d.dropna()\n",
    "X=d[[\"lag1\",\"lag5\",\"roll_mean5\",\"roll_std5\",\"mom5\",\"z20\"]].values\n",
    "yr=d[\"ret\"].shift(-1).dropna().values\n",
    "Xr=X[:len(yr)]\n",
    "yc=(d[\"ret\"].shift(-1)>0).astype(int).dropna().values\n",
    "Xc=X[:len(yc)]"
   ]
  },
  {
   "cell_type": "code",
   "execution_count": null,
   "id": "99049e80",
   "metadata": {},
   "outputs": [],
   "source": [
    "n=len(Xr)\n",
    "split=int(n*0.75)\n",
    "Xtr,Xte=Xr[:split],Xr[split:]\n",
    "ytr,yte=yr[:split],yr[split:]\n",
    "pipe=Pipeline([(\"s\",StandardScaler()),(\"m\",Ridge(alpha=1.0))])\n",
    "pipe.fit(Xtr,ytr)\n",
    "p=pipe.predict(Xte)\n",
    "mae=mean_absolute_error(yte,p)\n",
    "rmse=(mean_squared_error(yte,p, squared=True)**0.5)\n",
    "print(mae,rmse)\n",
    "t=np.arange(len(yte))\n",
    "plt.figure(); plt.plot(t,yte); plt.plot(t,p); plt.title(\"pred_vs_truth\"); plt.show()"
   ]
  },
  {
   "cell_type": "code",
   "execution_count": null,
   "id": "903e3e0b",
   "metadata": {},
   "outputs": [],
   "source": [
    "n=len(Xc)\n",
    "split=int(n*0.75)\n",
    "Xtr,Xte=Xc[:split],Xc[split:]\n",
    "ytr,yte=yc[:split],yc[split:]\n",
    "pipe=Pipeline([(\"s\",StandardScaler()),(\"c\",LogisticRegression(max_iter=200))])\n",
    "pipe.fit(Xtr,ytr)\n",
    "p=pipe.predict(Xte)\n",
    "acc=accuracy_score(yte,p)\n",
    "prec=precision_score(yte,p,zero_division=0)\n",
    "rec=recall_score(yte,p,zero_division=0)\n",
    "f1=f1_score(yte,p,zero_division=0)\n",
    "print(acc,prec,rec,f1)\n",
    "cm=confusion_matrix(yte,p)\n",
    "plt.figure(); plt.imshow(cm); plt.title(\"confusion_matrix\"); plt.show()"
   ]
  }
 ],
 "metadata": {
  "kernelspec": {
   "display_name": "Python 3",
   "language": "python",
   "name": "python3"
  }
 },
 "nbformat": 4,
 "nbformat_minor": 5
}
