{
 "cells": [
  {
   "cell_type": "code",
   "execution_count": 1,
   "id": "ba7042d7",
   "metadata": {},
   "outputs": [],
   "source": [
    "import sys, os\n",
    "sys.path.append(os.path.abspath(os.path.join(os.getcwd(), \"..\", \"src\")))\n"
   ]
  },
  {
   "cell_type": "code",
   "execution_count": 2,
   "id": "52ed2523",
   "metadata": {},
   "outputs": [
    {
     "name": "stdout",
     "output_type": "stream",
     "text": [
      "saved: c:\\Users\\24614\\bootcamp_Mingxuan_Jiang\\project\\data\\processed\\sample_processed.csv\n"
     ]
    }
   ],
   "source": [
    "import pandas as pd, os\n",
    "raw = os.path.abspath(os.path.join(os.getcwd(),\"..\",\"data\",\"raw\",\"sample_raw.csv\"))\n",
    "df = pd.read_csv(raw)\n",
    "proc_dir = os.path.abspath(os.path.join(os.getcwd(),\"..\",\"data\",\"processed\"))\n",
    "os.makedirs(proc_dir, exist_ok=True)\n",
    "proc_path = os.path.join(proc_dir,\"sample_processed.csv\")\n",
    "df.to_csv(proc_path, index=False); print(\"saved:\", proc_path)\n"
   ]
  }
 ],
 "metadata": {
  "kernelspec": {
   "display_name": ".venv",
   "language": "python",
   "name": "python3"
  },
  "language_info": {
   "codemirror_mode": {
    "name": "ipython",
    "version": 3
   },
   "file_extension": ".py",
   "mimetype": "text/x-python",
   "name": "python",
   "nbconvert_exporter": "python",
   "pygments_lexer": "ipython3",
   "version": "3.13.7"
  }
 },
 "nbformat": 4,
 "nbformat_minor": 5
}
