{
  "cells": [
    {
      "cell_type": "code",
      "execution_count": 1,
      "metadata": {},
      "outputs": [],
      "source": [
        "from pathlib import Path\n",
        "import numpy as np\n",
        "import pandas as pd\n",
        "import matplotlib.pyplot as plt\n",
        "pd.set_option('display.max_columns', 120)\n",
        "pd.set_option('display.width', 140)\n",
        "DATA_PATH = None"
      ]
    },
    {
      "cell_type": "code",
      "execution_count": 2,
      "metadata": {},
      "outputs": [
        {
          "data": {
            "text/html": [
              "<div>\n",
              "<style scoped>\n",
              "    .dataframe tbody tr th:only-of-type {\n",
              "        vertical-align: middle;\n",
              "    }\n",
              "\n",
              "    .dataframe tbody tr th {\n",
              "        vertical-align: top;\n",
              "    }\n",
              "\n",
              "    .dataframe thead th {\n",
              "        text-align: right;\n",
              "    }\n",
              "</style>\n",
              "<table border=\"1\" class=\"dataframe\">\n",
              "  <thead>\n",
              "    <tr style=\"text-align: right;\">\n",
              "      <th></th>\n",
              "      <th>date</th>\n",
              "      <th>category</th>\n",
              "      <th>price</th>\n",
              "      <th>volume</th>\n",
              "      <th>returns</th>\n",
              "    </tr>\n",
              "  </thead>\n",
              "  <tbody>\n",
              "    <tr>\n",
              "      <th>0</th>\n",
              "      <td>2023-01-01</td>\n",
              "      <td>C</td>\n",
              "      <td>85.16</td>\n",
              "      <td>21071</td>\n",
              "      <td>-0.012632</td>\n",
              "    </tr>\n",
              "    <tr>\n",
              "      <th>1</th>\n",
              "      <td>2023-01-02</td>\n",
              "      <td>B</td>\n",
              "      <td>118.49</td>\n",
              "      <td>17761</td>\n",
              "      <td>0.041628</td>\n",
              "    </tr>\n",
              "    <tr>\n",
              "      <th>2</th>\n",
              "      <td>2023-01-03</td>\n",
              "      <td>C</td>\n",
              "      <td>100.69</td>\n",
              "      <td>32802</td>\n",
              "      <td>0.000351</td>\n",
              "    </tr>\n",
              "  </tbody>\n",
              "</table>\n",
              "</div>"
            ],
            "text/plain": [
              "        date category   price  volume   returns\n",
              "0 2023-01-01        C   85.16   21071 -0.012632\n",
              "1 2023-01-02        B  118.49   17761  0.041628\n",
              "2 2023-01-03        C  100.69   32802  0.000351"
            ]
          },
          "execution_count": 2,
          "metadata": {},
          "output_type": "execute_result"
        }
      ],
      "source": [
        "if DATA_PATH is not None and Path(DATA_PATH).exists():\n",
        "    p = Path(DATA_PATH)\n",
        "    if p.suffix.lower() in {'.xlsx','.xls'}:\n",
        "        import openpyxl\n",
        "        df = pd.read_excel(p)\n",
        "    else:\n",
        "        df = pd.read_csv(p)\n",
        "    data_source = 'external'\n",
        "else:\n",
        "    rng = np.random.default_rng(42)\n",
        "    n = 1000\n",
        "    date = pd.date_range('2023-01-01', periods=n, freq='D')\n",
        "    category = rng.choice(['A','B','C','D'], size=n, p=[0.4,0.3,0.2,0.1])\n",
        "    price = np.abs(rng.normal(100, 20, n)).round(2)\n",
        "    volume = rng.lognormal(mean=10, sigma=0.5, size=n).astype(int)\n",
        "    returns = rng.normal(0.001, 0.02, n)\n",
        "    df = pd.DataFrame({'date':date,'category':category,'price':price,'volume':volume,'returns':returns})\n",
        "    idx = rng.choice(df.index, size=int(0.03*n), replace=False)\n",
        "    df.loc[idx, 'price'] = np.nan\n",
        "    out = Path('data/synthetic_feature_eng.csv')\n",
        "    out.parent.mkdir(parents=True, exist_ok=True)\n",
        "    df.to_csv(out, index=False)\n",
        "    data_source = f'synthetic->{out.as_posix()}'\n",
        "df.head(3)"
      ]
    },
    {
      "cell_type": "code",
      "execution_count": 3,
      "metadata": {},
      "outputs": [],
      "source": [
        "if 'price' in df.columns:\n",
        "    df['log_price'] = np.log1p(df['price'])"
      ]
    },
    {
      "cell_type": "code",
      "execution_count": 4,
      "metadata": {},
      "outputs": [],
      "source": [
        "if 'returns' not in df.columns and 'price' in df.columns:\n",
        "    if 'date' in df.columns:\n",
        "        tmp = df[['date','price']].sort_values('date')\n",
        "        tmp['returns'] = tmp['price'].pct_change()\n",
        "        df = df.merge(tmp[['date','returns']], on='date', how='left')\n",
        "    else:\n",
        "        df = df.sort_index()\n",
        "        df['returns'] = df['price'].pct_change()\n",
        "if 'returns' in df.columns:\n",
        "    if 'date' in df.columns:\n",
        "        df = df.sort_values('date')\n",
        "    df['rolling_return_mean_5'] = df['returns'].rolling(5, min_periods=1).mean()"
      ]
    },
    {
      "cell_type": "code",
      "execution_count": 5,
      "metadata": {},
      "outputs": [],
      "source": [
        "if 'category' in df.columns:\n",
        "    dummies = pd.get_dummies(df['category'], prefix='cat')\n",
        "    df = pd.concat([df, dummies], axis=1)"
      ]
    },
    {
      "cell_type": "code",
      "execution_count": 6,
      "metadata": {},
      "outputs": [
        {
          "data": {
            "text/html": [
              "<div>\n",
              "<style scoped>\n",
              "    .dataframe tbody tr th:only-of-type {\n",
              "        vertical-align: middle;\n",
              "    }\n",
              "\n",
              "    .dataframe tbody tr th {\n",
              "        vertical-align: top;\n",
              "    }\n",
              "\n",
              "    .dataframe thead th {\n",
              "        text-align: right;\n",
              "    }\n",
              "</style>\n",
              "<table border=\"1\" class=\"dataframe\">\n",
              "  <thead>\n",
              "    <tr style=\"text-align: right;\">\n",
              "      <th></th>\n",
              "      <th>price</th>\n",
              "      <th>volume</th>\n",
              "      <th>returns</th>\n",
              "      <th>log_price</th>\n",
              "      <th>rolling_return_mean_5</th>\n",
              "    </tr>\n",
              "  </thead>\n",
              "  <tbody>\n",
              "    <tr>\n",
              "      <th>price</th>\n",
              "      <td>1.000000</td>\n",
              "      <td>-0.011582</td>\n",
              "      <td>-0.006722</td>\n",
              "      <td>0.987946</td>\n",
              "      <td>0.005524</td>\n",
              "    </tr>\n",
              "    <tr>\n",
              "      <th>volume</th>\n",
              "      <td>-0.011582</td>\n",
              "      <td>1.000000</td>\n",
              "      <td>0.028983</td>\n",
              "      <td>-0.023193</td>\n",
              "      <td>0.033549</td>\n",
              "    </tr>\n",
              "    <tr>\n",
              "      <th>returns</th>\n",
              "      <td>-0.006722</td>\n",
              "      <td>0.028983</td>\n",
              "      <td>1.000000</td>\n",
              "      <td>-0.000500</td>\n",
              "      <td>0.450038</td>\n",
              "    </tr>\n",
              "    <tr>\n",
              "      <th>log_price</th>\n",
              "      <td>0.987946</td>\n",
              "      <td>-0.023193</td>\n",
              "      <td>-0.000500</td>\n",
              "      <td>1.000000</td>\n",
              "      <td>0.004003</td>\n",
              "    </tr>\n",
              "    <tr>\n",
              "      <th>rolling_return_mean_5</th>\n",
              "      <td>0.005524</td>\n",
              "      <td>0.033549</td>\n",
              "      <td>0.450038</td>\n",
              "      <td>0.004003</td>\n",
              "      <td>1.000000</td>\n",
              "    </tr>\n",
              "  </tbody>\n",
              "</table>\n",
              "</div>"
            ],
            "text/plain": [
              "                          price    volume   returns  log_price  rolling_return_mean_5\n",
              "price                  1.000000 -0.011582 -0.006722   0.987946               0.005524\n",
              "volume                -0.011582  1.000000  0.028983  -0.023193               0.033549\n",
              "returns               -0.006722  0.028983  1.000000  -0.000500               0.450038\n",
              "log_price              0.987946 -0.023193 -0.000500   1.000000               0.004003\n",
              "rolling_return_mean_5  0.005524  0.033549  0.450038   0.004003               1.000000"
            ]
          },
          "execution_count": 6,
          "metadata": {},
          "output_type": "execute_result"
        }
      ],
      "source": [
        "num_df = df.select_dtypes(include=[np.number])\n",
        "if 'target' in num_df.columns:\n",
        "    corr = num_df.corr(numeric_only=True)['target'].sort_values(ascending=False)\n",
        "else:\n",
        "    corr = num_df.corr(numeric_only=True)\n",
        "corr.head() if hasattr(corr, 'head') else corr"
      ]
    },
    {
      "cell_type": "code",
      "execution_count": 7,
      "metadata": {},
      "outputs": [
        {
          "data": {
            "text/plain": [
              "'data/processed/feature_engineered.csv'"
            ]
          },
          "execution_count": 7,
          "metadata": {},
          "output_type": "execute_result"
        }
      ],
      "source": [
        "out = Path('data/processed')\n",
        "out.mkdir(parents=True, exist_ok=True)\n",
        "out_file = out / 'feature_engineered.csv'\n",
        "df.to_csv(out_file, index=False)\n",
        "out_file.as_posix()"
      ]
    }
  ],
  "metadata": {
    "authors": [
      {
        "name": "Auto-generated by ChatGPT"
      }
    ],
    "created": "2025-08-21T14:46:03.947946Z",
    "kernelspec": {
      "display_name": ".venv",
      "language": "python",
      "name": "python3"
    },
    "language_info": {
      "codemirror_mode": {
        "name": "ipython",
        "version": 3
      },
      "file_extension": ".py",
      "mimetype": "text/x-python",
      "name": "python",
      "nbconvert_exporter": "python",
      "pygments_lexer": "ipython3",
      "version": "3.13.7"
    }
  },
  "nbformat": 4,
  "nbformat_minor": 5
}
